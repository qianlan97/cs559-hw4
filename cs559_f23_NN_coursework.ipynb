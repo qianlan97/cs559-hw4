{
 "cells": [
  {
   "attachments": {},
   "cell_type": "markdown",
   "id": "17253117",
   "metadata": {},
   "source": [
    "# <center>Lecture 05: Neural Networks</center>"
   ]
  },
  {
   "attachments": {},
   "cell_type": "markdown",
   "id": "643a673c",
   "metadata": {},
   "source": [
    "## 1. Neural Network Regression Example"
   ]
  },
  {
   "cell_type": "code",
   "execution_count": 19,
   "id": "be4350d7",
   "metadata": {},
   "outputs": [],
   "source": [
    "import numpy as np\n",
    "import matplotlib.pyplot as plt\n",
    "from sklearn.datasets import make_regression\n"
   ]
  },
  {
   "cell_type": "code",
   "execution_count": 20,
   "id": "5ea1cfa2",
   "metadata": {},
   "outputs": [],
   "source": [
    "x, y = make_regression(n_samples=100, n_features=5, noise=10, random_state=42)"
   ]
  },
  {
   "cell_type": "code",
   "execution_count": 21,
   "id": "5b8163b4",
   "metadata": {},
   "outputs": [],
   "source": [
    "from sklearn.neural_network import MLPRegressor\n",
    "from sklearn.linear_model import LinearRegression\n",
    "from sklearn.metrics import mean_squared_error"
   ]
  },
  {
   "cell_type": "code",
   "execution_count": 22,
   "id": "630828c1",
   "metadata": {},
   "outputs": [
    {
     "data": {
      "text/plain": [
       "0.24463512449612324"
      ]
     },
     "execution_count": 22,
     "metadata": {},
     "output_type": "execute_result"
    }
   ],
   "source": [
    "nn = MLPRegressor(max_iter=100000, activation='logistic')\n",
    "nn.fit(x,y)\n",
    "y_pred = nn.predict(x)\n",
    "np.sqrt(mean_squared_error(y,y_pred))"
   ]
  },
  {
   "cell_type": "code",
   "execution_count": 23,
   "id": "3840c369",
   "metadata": {},
   "outputs": [
    {
     "name": "stderr",
     "output_type": "stream",
     "text": [
      "d:\\anaconda3\\lib\\site-packages\\sklearn\\neural_network\\_multilayer_perceptron.py:692: ConvergenceWarning: Stochastic Optimizer: Maximum iterations (200) reached and the optimization hasn't converged yet.\n",
      "  warnings.warn(\n"
     ]
    },
    {
     "data": {
      "text/plain": [
       "122.15615058610896"
      ]
     },
     "execution_count": 23,
     "metadata": {},
     "output_type": "execute_result"
    }
   ],
   "source": [
    "nn = MLPRegressor(activation='identity')\n",
    "nn.fit(x,y)\n",
    "y_pred = nn.predict(x)\n",
    "np.sqrt(mean_squared_error(y,y_pred))"
   ]
  },
  {
   "cell_type": "code",
   "execution_count": 24,
   "id": "58e6c4ad",
   "metadata": {},
   "outputs": [
    {
     "data": {
      "text/plain": [
       "9.318078120631622"
      ]
     },
     "execution_count": 24,
     "metadata": {},
     "output_type": "execute_result"
    }
   ],
   "source": [
    "lr = LinearRegression()\n",
    "lr.fit(x,y)\n",
    "y_pred = lr.predict(x)\n",
    "np.sqrt(mean_squared_error(y,y_pred))"
   ]
  },
  {
   "attachments": {},
   "cell_type": "markdown",
   "id": "3431b48f",
   "metadata": {},
   "source": [
    "### Forward Propagation\n",
    "* The linaer combination from the input layer: $ A=\\sum W_1X $\n",
    "* The nonlinear activation function: $\\sigma(A)=\\frac{1}{1+e^{-A}}$\n",
    "* The hidden layer output $Z$: $Z=\\sigma(A)$\n",
    "* The output layer output $\\hat{Y}$: $\\hat{Y} = \\sigma(W_2 Z)$\n",
    "* The error function: $E=\\frac{1}{2}\\sum (\\hat{Y}-Y)^2$"
   ]
  },
  {
   "cell_type": "code",
   "execution_count": 25,
   "id": "736a9ed4",
   "metadata": {},
   "outputs": [],
   "source": [
    "x, y = make_regression(n_samples=100, n_features=5, noise=10, random_state=42)"
   ]
  },
  {
   "cell_type": "code",
   "execution_count": 26,
   "id": "6ebc7f8c",
   "metadata": {},
   "outputs": [],
   "source": [
    "w1 = np.random.rand(50,2)\n",
    "w2 = np.random.rand(1,50)"
   ]
  },
  {
   "cell_type": "code",
   "execution_count": 27,
   "id": "2912c458",
   "metadata": {},
   "outputs": [],
   "source": [
    "def ffNN(w,x):\n",
    "    a = w.dot(x.T)\n",
    "    return a\n",
    "\n",
    "def sigmoid(x):\n",
    "    return 1/(1+np.exp(-x))\n",
    "\n",
    "def _delta(y,ypred):\n",
    "    return ypred-y\n",
    "\n",
    "def _cost(y,ypred):\n",
    "    cost = np.sum(_delta(y,ypred)**2)/(2*len(y))\n",
    "    return cost\n",
    "\n",
    "def sigmoid_prime(x):\n",
    "    return sigmoid(x)*(1-sigmoid(x))"
   ]
  },
  {
   "cell_type": "code",
   "execution_count": null,
   "id": "f5fba753",
   "metadata": {},
   "outputs": [],
   "source": [
    "## input layer to hidden layer\n",
    "a1 = \n",
    "z1 = \n",
    "print(f'shape of a1: {a1.shape}, z1: {z1.shape}')\n",
    "\n",
    "## hidden layer to output layer\n",
    "yhat = \n",
    "print(f'shape of y1: {yhat.shape}')\n",
    "print(f'cost: {_cost(y,yhat)}')"
   ]
  },
  {
   "attachments": {},
   "cell_type": "markdown",
   "id": "c188be82",
   "metadata": {},
   "source": [
    "### Error Backpropagation: Output layer to hidden layer\n",
    "* The error on output layer: $\\delta_2 = \\hat{Y}-Y$ where $\\hat{Y}$ is the predicted value. \n",
    "* The dradient of Error: $\\nabla E = \\frac{\\partial E}{\\partial W_2} = \\sum\\delta_2 Z$\n",
    "* The update $W_2$ value: $\\hat{W}_2 = W_2 + \\Delta W_2 = W_2 - \\eta\\nabla E$"
   ]
  },
  {
   "cell_type": "code",
   "execution_count": null,
   "id": "15b8387c",
   "metadata": {},
   "outputs": [],
   "source": [
    "delta2 = "
   ]
  },
  {
   "cell_type": "code",
   "execution_count": null,
   "id": "47fc76fb",
   "metadata": {},
   "outputs": [],
   "source": [
    "dE_dW2 = "
   ]
  },
  {
   "cell_type": "code",
   "execution_count": null,
   "id": "a715b249",
   "metadata": {},
   "outputs": [],
   "source": [
    "eta = 0.0001\n",
    "delta_w2 = \n",
    "w2_new = "
   ]
  },
  {
   "attachments": {},
   "cell_type": "markdown",
   "id": "6ed39555",
   "metadata": {},
   "source": [
    "### Error Backpropagation: Hidden layer to input layer\n",
    "* The error on the hidden layer: $\\delta_1 = \\sigma'(A)\\sum\\delta_2 W_2$ where $\\sigma'(A) = Z[1-Z]$.\n",
    "* The update of $W_1$: $\\hat{W}_1 = W_1 + \\Delta W_1 = W_1 - \\eta\\delta_1 X$ "
   ]
  },
  {
   "cell_type": "code",
   "execution_count": null,
   "id": "cd0cb437",
   "metadata": {},
   "outputs": [],
   "source": [
    "delta1 = \n",
    "dz1 = \n",
    "delta1 = "
   ]
  },
  {
   "cell_type": "code",
   "execution_count": null,
   "id": "6133bad3",
   "metadata": {},
   "outputs": [],
   "source": [
    "delta_w1 = \n",
    "w1_new = w1-eta*delta_w1"
   ]
  },
  {
   "cell_type": "code",
   "execution_count": null,
   "id": "2064ce0a",
   "metadata": {},
   "outputs": [],
   "source": [
    "## Predict with new forward propagation\n",
    "a1 = \n",
    "z1 = \n",
    "\n",
    "## hidden layer to output layer\n",
    "yhat = "
   ]
  },
  {
   "attachments": {},
   "cell_type": "markdown",
   "id": "48088bc0",
   "metadata": {},
   "source": [
    "### Prediction with updated $W_1$ and $W_2$:"
   ]
  },
  {
   "attachments": {},
   "cell_type": "markdown",
   "id": "450bc452",
   "metadata": {},
   "source": [
    "### Put all together"
   ]
  },
  {
   "cell_type": "code",
   "execution_count": null,
   "id": "4de9a0df",
   "metadata": {},
   "outputs": [],
   "source": [
    "def fBNN(x,y,w1,w2,eta,epoch):\n",
    "    cost_list = []\n",
    "    epoch_list = []\n",
    "    ypred_list = []\n",
    "    for i in range(1,epoch+1):\n",
    "        \"\"\"\n",
    "        forward propagation\n",
    "        \"\"\"\n",
    "\n",
    "        \"\"\"\n",
    "        backpropagation from the output layer to the hidden layer\n",
    "        \"\"\"\n",
    "\n",
    "        \"\"\"\n",
    "        backpropagation from the hidden layer to the input layer\n",
    "        \"\"\"        \n",
    "\n",
    "\n",
    "\n",
    "        \"\"\"\n",
    "        forward propagation with new weights\n",
    "        \"\"\"\n",
    "\n",
    "        \n",
    "        if i>=1 and cost_new >=5E-3:\n",
    "            epoch_list.append(i)\n",
    "            cost_list.append(cost_new)\n",
    "            ypred_list.append(yhat_new)\n",
    "        if i > 1 and cost_new <= 5E-3:\n",
    "            print(\"last epoch:\",i,\"cost:\",cost,\"y_pred:\",yhat_new)\n",
    "            break\n",
    "    print(cost_new)      \n",
    "    plt.plot(epoch_list, cost_list)\n",
    "    plt.xlabel('epoch')\n",
    "    plt.ylabel('cost')\n",
    "    plt.show()"
   ]
  },
  {
   "cell_type": "code",
   "execution_count": null,
   "id": "68592448",
   "metadata": {},
   "outputs": [],
   "source": [
    "fBNN( x= , y = , w1 = , w2 = , eta = , epoch =)"
   ]
  },
  {
   "attachments": {},
   "cell_type": "markdown",
   "id": "617a6d70",
   "metadata": {},
   "source": [
    "## 2. Scikit-learn Neural Network\n",
    "\n",
    "* Classification: https://scikit-learn.org/stable/modules/generated/sklearn.neural_network.MLPClassifier.html\n",
    "\n",
    "* Regression: https://scikit-learn.org/stable/modules/generated/sklearn.neural_network.MLPRegressor.html"
   ]
  },
  {
   "cell_type": "code",
   "execution_count": null,
   "id": "b17623b9",
   "metadata": {},
   "outputs": [],
   "source": [
    "import numpy as np\n",
    "from sklearn import datasets\n",
    "\n",
    "## prepare data\n",
    "iris = datasets.load_iris()\n",
    "index = range(100)\n",
    "iris.x = iris.data[index, :]\n",
    "iris.y = iris.target[index]"
   ]
  },
  {
   "cell_type": "code",
   "execution_count": null,
   "id": "ea4e0ec9",
   "metadata": {},
   "outputs": [],
   "source": [
    "features = ['sepal length (cm)', 'sepal width (cm)', 'petal length (cm)','petal width (cm)']"
   ]
  },
  {
   "cell_type": "code",
   "execution_count": null,
   "id": "e89cdf1c",
   "metadata": {},
   "outputs": [],
   "source": [
    "from sklearn.linear_model import LogisticRegression\n",
    "from sklearn.neural_network import MLPClassifier\n",
    "from sklearn.metrics import accuracy_score\n",
    "from sklearn.metrics import confusion_matrix\n",
    "import warnings\n",
    "warnings.filterwarnings('ignore')"
   ]
  },
  {
   "cell_type": "code",
   "execution_count": null,
   "id": "71334d52",
   "metadata": {},
   "outputs": [],
   "source": [
    "lr = LogisticRegression()\n",
    "lr.fit(iris.x[:, 0:2], iris.y)\n",
    "iris_pred = lr.predict(iris.x[:, 0:2])\n",
    "print(lr.score(iris.x[:,0:2], iris.y))\n",
    "print(accuracy_score(iris.y,iris_pred))"
   ]
  },
  {
   "cell_type": "code",
   "execution_count": null,
   "id": "3ee45c79",
   "metadata": {},
   "outputs": [],
   "source": [
    "confusion_matrix(iris.y,iris_pred)"
   ]
  },
  {
   "cell_type": "code",
   "execution_count": null,
   "id": "9c00b04c",
   "metadata": {},
   "outputs": [],
   "source": [
    "def plot_model(model, x, y, label):\n",
    "    '''\n",
    "    model: a fitted model\n",
    "    x, y: two variables, should arrays\n",
    "    label: true label\n",
    "    '''\n",
    "    margin = 0.5\n",
    "    x_min = x.min() - margin\n",
    "    x_max = x.max() + margin\n",
    "    y_min = y.min() - margin\n",
    "    y_max = y.max() + margin\n",
    "    import  matplotlib.pyplot as plt\n",
    "    from matplotlib import colors\n",
    "    col_dict = {\n",
    "        'red': [(0, 1, 1), (1, 0.7, 0.7)],\n",
    "        'green': [(0, 1, 0.5), (1, 0.7, 0.7)],\n",
    "        'blue': [(0, 1, 0.5), (1, 1, 1)]\n",
    "    }\n",
    "    cmap = colors.LinearSegmentedColormap('red_blue_classes', col_dict)\n",
    "    plt.cm.register_cmap(cmap=cmap)\n",
    "    nx, ny = 200, 200\n",
    "    xx, yy = np.meshgrid(\n",
    "        np.linspace(x_min, x_max, nx),\n",
    "        np.linspace(y_min, y_max, ny)\n",
    "    )\n",
    "    Z = model.predict(np.c_[xx.ravel(), yy.ravel()])\n",
    "    Z = Z.reshape(xx.shape)\n",
    "    ## plot colormap\n",
    "    plt.pcolormesh(xx, yy, Z, cmap='red_blue_classes')\n",
    "    ## plot boundaries\n",
    "    plt.contour(xx, yy, Z, [0.5], linewidths=1., colors='k')\n",
    "    plt.contour(xx, yy, Z, [1], linewidths=1., colors='k')\n",
    "    ## plot scatters and true labels\n",
    "    plt.scatter(x, y, c=label, edgecolors='k')\n",
    "    plt.xlim(x_min, x_max)\n",
    "    plt.ylim(y_min, y_max)\n",
    "    ## if it's a SVM model\n",
    "    if hasattr(model, 'support_'):\n",
    "        # if it's a SVC, plot the support vectors\n",
    "        index = model.support_\n",
    "        plt.scatter(x[index], y[index], c=label[index], s=200, alpha=0.33, edgecolors='k')"
   ]
  },
  {
   "cell_type": "code",
   "execution_count": null,
   "id": "0f916014",
   "metadata": {},
   "outputs": [],
   "source": [
    "plt.rcParams['figure.figsize'] = 8, 6\n",
    "lr.fit(iris.data[index, 0:2], iris.target[index])\n",
    "plot_model(lr, iris.data[index, 0], iris.data[index, 1], iris.target[index])\n",
    "plt.xlabel('Sepal Length')\n",
    "plt.ylabel('Sepal Width')\n",
    "plt.show()"
   ]
  },
  {
   "cell_type": "code",
   "execution_count": null,
   "id": "37e40a2a",
   "metadata": {},
   "outputs": [],
   "source": [
    "clf = MLPClassifier(solver='sgd',alpha=1E-4,activation='logistic', random_state=1)\n",
    "clf.fit(iris.x[:, 0:2], iris.y)\n",
    "iris_pred = clf.predict(iris.x[:, 0:2])\n",
    "print(clf.score(iris.x[:, 0:2], iris.y))\n",
    "print(accuracy_score(iris.y,iris_pred))"
   ]
  },
  {
   "cell_type": "code",
   "execution_count": null,
   "id": "a6ef6fe5",
   "metadata": {},
   "outputs": [],
   "source": [
    "CM = confusion_matrix(iris.y,iris_pred)\n",
    "print(f'the confusion matrix: \\n {CM}')"
   ]
  },
  {
   "cell_type": "code",
   "execution_count": null,
   "id": "7cff69b2",
   "metadata": {},
   "outputs": [],
   "source": [
    "accuracy_rate = (CM[0][0]+CM[1][1])/(np.sum(CM))\n",
    "print(accuracy_rate)"
   ]
  },
  {
   "cell_type": "code",
   "execution_count": null,
   "id": "d1ef0e97",
   "metadata": {},
   "outputs": [],
   "source": [
    "clf.fit(iris.data[:, 2:4], iris.target) # fit on all the observations\n",
    "clf.score(iris.data[:, 2:4], iris.target) # accuracy"
   ]
  }
 ],
 "metadata": {
  "kernelspec": {
   "display_name": "base",
   "language": "python",
   "name": "python3"
  },
  "language_info": {
   "codemirror_mode": {
    "name": "ipython",
    "version": 3
   },
   "file_extension": ".py",
   "mimetype": "text/x-python",
   "name": "python",
   "nbconvert_exporter": "python",
   "pygments_lexer": "ipython3",
   "version": "3.9.12"
  }
 },
 "nbformat": 4,
 "nbformat_minor": 5
}
