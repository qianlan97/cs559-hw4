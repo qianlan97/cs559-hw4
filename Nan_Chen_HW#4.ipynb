{
 "cells": [
  {
   "cell_type": "markdown",
   "metadata": {},
   "source": [
    "## CS 559 Homework 4\n",
    "\n",
    "### Nan Chen\n",
    "\n",
    "### SID: 20018997\n",
    "\n",
    "### Email: nchen15@stevens.edu"
   ]
  },
  {
   "cell_type": "markdown",
   "metadata": {},
   "source": [
    "### 1 Neural Network Backward Propagation [50 pts]\n",
    "Consider neural networks with one hidden layer, as discussed during the lecture. The forward\n",
    "propagation prediction was implemented. Complete the backward propagation codes. Using the\n",
    "generated data, predict y.\n",
    "```\n",
    "x, y = make regression(n samples=100, n features=5, noise=10, random state=42)\n",
    "```"
   ]
  },
  {
   "cell_type": "markdown",
   "metadata": {},
   "source": [
    "### Forward Propagation\n",
    "* The linaer combination from the input layer: $ A=\\sum W_1X $\n",
    "* The nonlinear activation function: $\\sigma(A)=\\frac{1}{1+e^{-A}}$\n",
    "* The hidden layer output $Z$: $Z=\\sigma(A)$\n",
    "* The output layer output $\\hat{Y}$: $\\hat{Y} = \\sigma(W_2 Z)$\n",
    "* The error function: $E=\\frac{1}{2}\\sum (\\hat{Y}-Y)^2$"
   ]
  },
  {
   "cell_type": "code",
   "execution_count": 1,
   "metadata": {},
   "outputs": [],
   "source": [
    "import numpy as np\n",
    "import matplotlib.pyplot as plt\n",
    "from sklearn.datasets import make_regression\n",
    "\n",
    "x, y = make_regression(n_samples=100, n_features=5, noise=10, random_state=42)\n",
    "\n",
    "w1 = np.random.rand(50,5)\n",
    "w2 = np.random.rand(1,50)\n",
    "\n",
    "def ffNN(w,x):\n",
    "    a = w.dot(x.T)\n",
    "    return a\n",
    "\n",
    "def sigmoid(x):\n",
    "    return 1/(1+np.exp(-x))\n",
    "\n",
    "def _delta(y,ypred):\n",
    "    return ypred-y\n",
    "\n",
    "def _cost(y,ypred):\n",
    "    cost = np.sum(_delta(y,ypred)**2)/(2*len(y))\n",
    "    return cost\n",
    "\n",
    "def sigmoid_prime(x):\n",
    "    return sigmoid(x)*(1-sigmoid(x))\n",
    "\n",
    "## input layer to hidden layer\n",
    "a1 = \n",
    "z1 = \n",
    "print(f'shape of a1: {a1.shape}, z1: {z1.shape}')\n",
    "\n",
    "## hidden layer to output layer\n",
    "yhat = \n",
    "print(f'shape of y1: {yhat.shape}')\n",
    "print(f'cost: {_cost(y,yhat)}')"
   ]
  },
  {
   "cell_type": "markdown",
   "metadata": {},
   "source": [
    "### Error Backpropagation: Output layer to hidden layer\n",
    "a. (15 pts) \n",
    "* The error on output layer: $\\delta_2 = \\hat{Y}-Y$ where $\\hat{Y}$ is the predicted value. \n",
    "* The dradient of Error: $\\nabla E = \\frac{\\partial E}{\\partial W_2} = \\sum\\delta_2 Z$\n",
    "* The update $W_2$ value: $\\hat{W}_2 = W_2 + \\Delta W_2 = W_2 - \\eta\\nabla E$\n",
    "* Compute $\\delta_2$ and $\\frac{\\partial E}{\\partial W_2}$ . Then, update $W_2$. \n",
    "* Use the learning rate $\\eta = 1*10^{-4}$"
   ]
  },
  {
   "cell_type": "code",
   "execution_count": null,
   "metadata": {},
   "outputs": [],
   "source": [
    "delta2 = \n",
    "\n",
    "dE_dW2 = \n",
    "\n",
    "eta = 0.0001\n",
    "delta_w2 = \n",
    "w2_new = "
   ]
  },
  {
   "cell_type": "markdown",
   "metadata": {},
   "source": [
    "### Error Backpropagation: Hidden layer to input layer\n",
    "b. (15 pts)\n",
    "* The error on the hidden layer: $\\delta_1 = \\sigma'(A)\\sum\\delta_2 W_2$ where $\\sigma'(A) = Z[1-Z]$.\n",
    "* The update of $W_1$: $\\hat{W}_1 = W_1 + \\Delta W_1 = W_1 - \\eta\\delta_1 X$ \n",
    "* Compute $\\delta_1$ and $\\frac{\\partial E}{\\partial W_1}$ . Then, update $W_1$. \n",
    "* Use the learning rate $\\eta = 1*10^{-4}$"
   ]
  },
  {
   "cell_type": "markdown",
   "metadata": {},
   "source": [
    "delta1 = \n",
    "dz1 = \n",
    "delta1 = \n",
    "\n",
    "delta_w1 = \n",
    "w1_new = w1-eta*delta_w1\n",
    "\n",
    "## Predict with new forward propagation\n",
    "a1 = \n",
    "z1 = \n",
    "\n",
    "## hidden layer to output layer\n",
    "yhat = "
   ]
  },
  {
   "cell_type": "markdown",
   "metadata": {},
   "source": [
    "### Prediction with updated $W_1$ and $W_2$:"
   ]
  },
  {
   "cell_type": "markdown",
   "metadata": {},
   "source": [
    "### Put all together\n",
    "c. (15 pts)\n",
    "* Put the forward and backward propagation codes together in a for-loop to observe the error convergence."
   ]
  },
  {
   "cell_type": "code",
   "execution_count": null,
   "metadata": {},
   "outputs": [],
   "source": [
    "def fBNN(x,y,w1,w2,eta,epoch):\n",
    "    cost_list = []\n",
    "    epoch_list = []\n",
    "    ypred_list = []\n",
    "    for i in range(1,epoch+1):\n",
    "        \"\"\"\n",
    "        forward propagation\n",
    "        \"\"\"\n",
    "\n",
    "        \"\"\"\n",
    "        backpropagation from the output layer to the hidden layer\n",
    "        \"\"\"\n",
    "\n",
    "        \"\"\"\n",
    "        backpropagation from the hidden layer to the input layer\n",
    "        \"\"\"        \n",
    "\n",
    "\n",
    "\n",
    "        \"\"\"\n",
    "        forward propagation with new weights\n",
    "        \"\"\"\n",
    "\n",
    "        \n",
    "        if i>=1 and cost_new >=5E-3:\n",
    "            epoch_list.append(i)\n",
    "            cost_list.append(cost_new)\n",
    "            ypred_list.append(yhat_new)\n",
    "        if i > 1 and cost_new <= 5E-3:\n",
    "            print(\"last epoch:\",i,\"cost:\",cost,\"y_pred:\",yhat_new)\n",
    "            break\n",
    "    print(cost_new)      \n",
    "    plt.plot(epoch_list, cost_list)\n",
    "    plt.xlabel('epoch')\n",
    "    plt.ylabel('cost')\n",
    "    plt.show()"
   ]
  },
  {
   "cell_type": "markdown",
   "metadata": {},
   "source": [
    "d. (5 pts)\n",
    "* Use Scikit-learn Neural Network to predict the target variable."
   ]
  },
  {
   "cell_type": "code",
   "execution_count": null,
   "metadata": {},
   "outputs": [],
   "source": [
    "fBNN( x= , y = , w1 = , w2 = , eta = , epoch =)"
   ]
  }
 ],
 "metadata": {
  "kernelspec": {
   "display_name": "base",
   "language": "python",
   "name": "python3"
  },
  "language_info": {
   "codemirror_mode": {
    "name": "ipython",
    "version": 3
   },
   "file_extension": ".py",
   "mimetype": "text/x-python",
   "name": "python",
   "nbconvert_exporter": "python",
   "pygments_lexer": "ipython3",
   "version": "3.9.12"
  },
  "orig_nbformat": 4
 },
 "nbformat": 4,
 "nbformat_minor": 2
}
